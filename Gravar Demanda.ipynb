{
 "cells": [
  {
   "cell_type": "code",
   "execution_count": 1,
   "metadata": {},
   "outputs": [
    {
     "name": "stdout",
     "output_type": "stream",
     "text": [
      "------------ DEMANDA -----------\n",
      "[['MK', 'RS', 0.017], ['LT', 'BG', 0.041], ['SK', 'CZ', 0.03], ['SK', 'ES', 0.043], ['RO', 'SL', 0.032], ['SL', 'TR', 0.02]]\n",
      "--------------------------------\n"
     ]
    }
   ],
   "source": [
    "import networkx as nx\n",
    "import matplotlib.pyplot as plt\n",
    "import pprint\n",
    "import demand_generator # Funcao que criei para demanda\n",
    "import itertools\n",
    "import fitness\n",
    "import roulletweel_selection\n",
    "\n",
    "g=nx.read_gml('Geant2012.gml')\n",
    "\n",
    "dijkstra_distances = {node: {} for node in g.nodes}\n",
    "\n",
    "for i in g.nodes:\n",
    "    for j in g.nodes:\n",
    "        if i == j:\n",
    "            continue\n",
    "        dijkstra_distances[i][j] = list(nx.all_shortest_paths(g, i, j))\n",
    "\n",
    "demanda=demand_generator.generator(list(g.nodes))\n",
    "\n",
    "print('------------ DEMANDA -----------')\n",
    "print(demanda)\n",
    "print('--------------------------------')\n",
    "\n",
    "caminhos = []\n",
    "\n",
    "for item in demanda:\n",
    "    caminhos.append(dijkstra_distances[item[0]][item[1]])\n",
    "\n",
    "todas_possibilidades = itertools.product(*caminhos)\n",
    "\n",
    "fitness_cromossomos = []\n",
    "\n",
    "for cromossomo in todas_possibilidades:\n",
    "    fitness_cromossomos.append((fitness.calc_fitness(g, cromossomo), cromossomo))\n",
    "\n",
    "melhor_cromossomo = roulletweel_selection.roullet_wheel(fitness_cromossomos)"
   ]
  },
  {
   "cell_type": "code",
   "execution_count": 4,
   "metadata": {},
   "outputs": [
    {
     "data": {
      "text/plain": [
       "(0.9833333333333334,\n",
       " (['BE', 'NL', 'DE', 'CH'],\n",
       "  ['IS', 'DK', 'DE', 'AT', 'SK', 'HU'],\n",
       "  ['HU', 'SK', 'AT', 'DE', 'NL'],\n",
       "  ['SE', 'DK', 'DE', 'CH', 'IT', 'MT'],\n",
       "  ['FR', 'ES', 'IT', 'GR', 'BG']))"
      ]
     },
     "execution_count": 4,
     "metadata": {},
     "output_type": "execute_result"
    }
   ],
   "source": [
    "melhor_cromossomo"
   ]
  },
  {
   "cell_type": "code",
   "execution_count": 5,
   "metadata": {},
   "outputs": [
    {
     "data": {
      "text/plain": [
       "[(0.9833333333333334,\n",
       "  (['BE', 'NL', 'DE', 'CH'],\n",
       "   ['IS', 'DK', 'DE', 'CZ', 'SK', 'HU'],\n",
       "   ['HU', 'SK', 'CZ', 'DE', 'NL'],\n",
       "   ['SE', 'DK', 'DE', 'CH', 'IT', 'MT'],\n",
       "   ['FR', 'CH', 'IT', 'GR', 'BG'])),\n",
       " (0.9833333333333334,\n",
       "  (['BE', 'NL', 'DE', 'CH'],\n",
       "   ['IS', 'DK', 'DE', 'CZ', 'SK', 'HU'],\n",
       "   ['HU', 'SK', 'CZ', 'DE', 'NL'],\n",
       "   ['SE', 'DK', 'DE', 'CH', 'IT', 'MT'],\n",
       "   ['FR', 'ES', 'IT', 'GR', 'BG'])),\n",
       " (0.9833333333333334,\n",
       "  (['BE', 'NL', 'DE', 'CH'],\n",
       "   ['IS', 'DK', 'DE', 'CZ', 'SK', 'HU'],\n",
       "   ['HU', 'SK', 'CZ', 'DE', 'NL'],\n",
       "   ['SE', 'DK', 'DE', 'AT', 'IT', 'MT'],\n",
       "   ['FR', 'CH', 'IT', 'GR', 'BG'])),\n",
       " (0.9833333333333334,\n",
       "  (['BE', 'NL', 'DE', 'CH'],\n",
       "   ['IS', 'DK', 'DE', 'CZ', 'SK', 'HU'],\n",
       "   ['HU', 'SK', 'CZ', 'DE', 'NL'],\n",
       "   ['SE', 'DK', 'DE', 'AT', 'IT', 'MT'],\n",
       "   ['FR', 'ES', 'IT', 'GR', 'BG'])),\n",
       " (0.9833333333333334,\n",
       "  (['BE', 'NL', 'DE', 'CH'],\n",
       "   ['IS', 'DK', 'DE', 'CZ', 'SK', 'HU'],\n",
       "   ['HU', 'SK', 'AT', 'DE', 'NL'],\n",
       "   ['SE', 'DK', 'DE', 'CH', 'IT', 'MT'],\n",
       "   ['FR', 'CH', 'IT', 'GR', 'BG'])),\n",
       " (0.9833333333333334,\n",
       "  (['BE', 'NL', 'DE', 'CH'],\n",
       "   ['IS', 'DK', 'DE', 'CZ', 'SK', 'HU'],\n",
       "   ['HU', 'SK', 'AT', 'DE', 'NL'],\n",
       "   ['SE', 'DK', 'DE', 'CH', 'IT', 'MT'],\n",
       "   ['FR', 'ES', 'IT', 'GR', 'BG'])),\n",
       " (0.9833333333333334,\n",
       "  (['BE', 'NL', 'DE', 'CH'],\n",
       "   ['IS', 'DK', 'DE', 'CZ', 'SK', 'HU'],\n",
       "   ['HU', 'SK', 'AT', 'DE', 'NL'],\n",
       "   ['SE', 'DK', 'DE', 'AT', 'IT', 'MT'],\n",
       "   ['FR', 'CH', 'IT', 'GR', 'BG'])),\n",
       " (0.9833333333333334,\n",
       "  (['BE', 'NL', 'DE', 'CH'],\n",
       "   ['IS', 'DK', 'DE', 'CZ', 'SK', 'HU'],\n",
       "   ['HU', 'SK', 'AT', 'DE', 'NL'],\n",
       "   ['SE', 'DK', 'DE', 'AT', 'IT', 'MT'],\n",
       "   ['FR', 'ES', 'IT', 'GR', 'BG'])),\n",
       " (0.9833333333333334,\n",
       "  (['BE', 'NL', 'DE', 'CH'],\n",
       "   ['IS', 'DK', 'DE', 'AT', 'SK', 'HU'],\n",
       "   ['HU', 'SK', 'CZ', 'DE', 'NL'],\n",
       "   ['SE', 'DK', 'DE', 'CH', 'IT', 'MT'],\n",
       "   ['FR', 'CH', 'IT', 'GR', 'BG'])),\n",
       " (0.9833333333333334,\n",
       "  (['BE', 'NL', 'DE', 'CH'],\n",
       "   ['IS', 'DK', 'DE', 'AT', 'SK', 'HU'],\n",
       "   ['HU', 'SK', 'CZ', 'DE', 'NL'],\n",
       "   ['SE', 'DK', 'DE', 'CH', 'IT', 'MT'],\n",
       "   ['FR', 'ES', 'IT', 'GR', 'BG'])),\n",
       " (0.9833333333333334,\n",
       "  (['BE', 'NL', 'DE', 'CH'],\n",
       "   ['IS', 'DK', 'DE', 'AT', 'SK', 'HU'],\n",
       "   ['HU', 'SK', 'CZ', 'DE', 'NL'],\n",
       "   ['SE', 'DK', 'DE', 'AT', 'IT', 'MT'],\n",
       "   ['FR', 'CH', 'IT', 'GR', 'BG'])),\n",
       " (0.9833333333333334,\n",
       "  (['BE', 'NL', 'DE', 'CH'],\n",
       "   ['IS', 'DK', 'DE', 'AT', 'SK', 'HU'],\n",
       "   ['HU', 'SK', 'CZ', 'DE', 'NL'],\n",
       "   ['SE', 'DK', 'DE', 'AT', 'IT', 'MT'],\n",
       "   ['FR', 'ES', 'IT', 'GR', 'BG'])),\n",
       " (0.9833333333333334,\n",
       "  (['BE', 'NL', 'DE', 'CH'],\n",
       "   ['IS', 'DK', 'DE', 'AT', 'SK', 'HU'],\n",
       "   ['HU', 'SK', 'AT', 'DE', 'NL'],\n",
       "   ['SE', 'DK', 'DE', 'CH', 'IT', 'MT'],\n",
       "   ['FR', 'CH', 'IT', 'GR', 'BG'])),\n",
       " (0.9833333333333334,\n",
       "  (['BE', 'NL', 'DE', 'CH'],\n",
       "   ['IS', 'DK', 'DE', 'AT', 'SK', 'HU'],\n",
       "   ['HU', 'SK', 'AT', 'DE', 'NL'],\n",
       "   ['SE', 'DK', 'DE', 'CH', 'IT', 'MT'],\n",
       "   ['FR', 'ES', 'IT', 'GR', 'BG'])),\n",
       " (0.9833333333333334,\n",
       "  (['BE', 'NL', 'DE', 'CH'],\n",
       "   ['IS', 'DK', 'DE', 'AT', 'SK', 'HU'],\n",
       "   ['HU', 'SK', 'AT', 'DE', 'NL'],\n",
       "   ['SE', 'DK', 'DE', 'AT', 'IT', 'MT'],\n",
       "   ['FR', 'CH', 'IT', 'GR', 'BG'])),\n",
       " (0.9833333333333334,\n",
       "  (['BE', 'NL', 'DE', 'CH'],\n",
       "   ['IS', 'DK', 'DE', 'AT', 'SK', 'HU'],\n",
       "   ['HU', 'SK', 'AT', 'DE', 'NL'],\n",
       "   ['SE', 'DK', 'DE', 'AT', 'IT', 'MT'],\n",
       "   ['FR', 'ES', 'IT', 'GR', 'BG']))]"
      ]
     },
     "execution_count": 5,
     "metadata": {},
     "output_type": "execute_result"
    }
   ],
   "source": [
    "fitness_cromossomos"
   ]
  },
  {
   "cell_type": "code",
   "execution_count": 15,
   "metadata": {},
   "outputs": [
    {
     "data": {
      "text/plain": [
       "{'LinkLabel': '10 Gbps',\n",
       " 'LinkSpeed': '10',\n",
       " 'LinkSpeedRaw': 10000000000.0,\n",
       " 'LinkSpeedUnits': 'G',\n",
       " 'id': 'e59'}"
      ]
     },
     "execution_count": 15,
     "metadata": {},
     "output_type": "execute_result"
    }
   ],
   "source": [
    "g.get_edge_data('NL', 'BE')"
   ]
  },
  {
   "cell_type": "code",
   "execution_count": 19,
   "metadata": {},
   "outputs": [],
   "source": [
    "g['NL']['BE']['LinkSpeedUsed'] = 10"
   ]
  },
  {
   "cell_type": "code",
   "execution_count": 20,
   "metadata": {},
   "outputs": [
    {
     "data": {
      "text/plain": [
       "10"
      ]
     },
     "execution_count": 20,
     "metadata": {},
     "output_type": "execute_result"
    }
   ],
   "source": [
    "g['NL']['BE']['LinkSpeedUsed']"
   ]
  },
  {
   "cell_type": "code",
   "execution_count": 25,
   "metadata": {},
   "outputs": [
    {
     "data": {
      "text/plain": [
       "'10'"
      ]
     },
     "execution_count": 25,
     "metadata": {},
     "output_type": "execute_result"
    }
   ],
   "source": [
    "g['NL']['BE']['LinkSpeed']"
   ]
  },
  {
   "cell_type": "code",
   "execution_count": 21,
   "metadata": {},
   "outputs": [
    {
     "data": {
      "text/plain": [
       "(0.9833333333333334,\n",
       " (['BE', 'NL', 'DE', 'CH'],\n",
       "  ['IS', 'DK', 'DE', 'AT', 'SK', 'HU'],\n",
       "  ['HU', 'SK', 'AT', 'DE', 'NL'],\n",
       "  ['SE', 'DK', 'DE', 'CH', 'IT', 'MT'],\n",
       "  ['FR', 'ES', 'IT', 'GR', 'BG']))"
      ]
     },
     "execution_count": 21,
     "metadata": {},
     "output_type": "execute_result"
    }
   ],
   "source": [
    "melhor_cromossomo"
   ]
  },
  {
   "cell_type": "code",
   "execution_count": 23,
   "metadata": {},
   "outputs": [],
   "source": [
    "try:\n",
    "    speed_used = g['NL']['DE']['LinkSpeedUsed']\n",
    "except KeyError:\n",
    "    speed_used = 0"
   ]
  },
  {
   "cell_type": "code",
   "execution_count": 26,
   "metadata": {},
   "outputs": [],
   "source": [
    "speed_used = speed_used + 0.033"
   ]
  },
  {
   "cell_type": "code",
   "execution_count": 27,
   "metadata": {},
   "outputs": [],
   "source": [
    "g['NL']['DE']['LinkSpeedUsed'] = speed_used"
   ]
  },
  {
   "cell_type": "code",
   "execution_count": 28,
   "metadata": {},
   "outputs": [
    {
     "data": {
      "text/plain": [
       "0.033"
      ]
     },
     "execution_count": 28,
     "metadata": {},
     "output_type": "execute_result"
    }
   ],
   "source": [
    "g['NL']['DE']['LinkSpeedUsed']"
   ]
  },
  {
   "cell_type": "code",
   "execution_count": 33,
   "metadata": {},
   "outputs": [
    {
     "data": {
      "text/plain": [
       "0.33"
      ]
     },
     "execution_count": 33,
     "metadata": {},
     "output_type": "execute_result"
    }
   ],
   "source": [
    "(g['NL']['DE']['LinkSpeedUsed'] / float(g['NL']['DE']['LinkSpeed'])) * 100"
   ]
  },
  {
   "cell_type": "code",
   "execution_count": 31,
   "metadata": {},
   "outputs": [
    {
     "data": {
      "text/plain": [
       "'10'"
      ]
     },
     "execution_count": 31,
     "metadata": {},
     "output_type": "execute_result"
    }
   ],
   "source": [
    "g['NL']['DE']['LinkSpeed']"
   ]
  },
  {
   "cell_type": "code",
   "execution_count": 3,
   "metadata": {},
   "outputs": [
    {
     "name": "stdout",
     "output_type": "stream",
     "text": [
      "0\n",
      "0\n",
      "0\n",
      "0\n",
      "0\n",
      "0\n",
      "0\n",
      "0\n",
      "0\n",
      "0\n",
      "0\n",
      "0\n",
      "0\n",
      "0\n",
      "0\n",
      "0\n",
      "0\n",
      "0\n",
      "0\n",
      "0\n",
      "0\n",
      "0\n",
      "0\n",
      "0\n",
      "0\n",
      "0\n",
      "0\n",
      "0\n",
      "0\n",
      "0\n",
      "0\n",
      "0\n",
      "0\n",
      "0\n",
      "0\n",
      "0\n",
      "0\n",
      "0\n",
      "0\n",
      "0\n",
      "0\n",
      "0\n",
      "0\n",
      "0\n",
      "0\n",
      "0\n",
      "0\n",
      "0\n",
      "0\n",
      "0\n",
      "0\n",
      "0\n",
      "0\n",
      "0\n",
      "0\n",
      "0\n",
      "0\n",
      "0\n",
      "0\n",
      "0\n",
      "0\n"
     ]
    }
   ],
   "source": [
    "for edge in g.edges:\n",
    "    g[edge[0]][edge[1]]['LinkUsed'] = 0\n",
    "for edge in g.edges:\n",
    "    print(g[edge[0]][edge[1]]['LinkUsed'])"
   ]
  },
  {
   "cell_type": "code",
   "execution_count": null,
   "metadata": {},
   "outputs": [],
   "source": []
  }
 ],
 "metadata": {
  "kernelspec": {
   "display_name": "Python 3",
   "language": "python",
   "name": "python3"
  },
  "language_info": {
   "codemirror_mode": {
    "name": "ipython",
    "version": 3
   },
   "file_extension": ".py",
   "mimetype": "text/x-python",
   "name": "python",
   "nbconvert_exporter": "python",
   "pygments_lexer": "ipython3",
   "version": "3.6.4"
  }
 },
 "nbformat": 4,
 "nbformat_minor": 2
}
